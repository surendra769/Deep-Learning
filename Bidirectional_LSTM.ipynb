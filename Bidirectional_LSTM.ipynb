{
  "nbformat": 4,
  "nbformat_minor": 0,
  "metadata": {
    "colab": {
      "provenance": []
    },
    "kernelspec": {
      "name": "python3",
      "display_name": "Python 3"
    },
    "language_info": {
      "name": "python"
    }
  },
  "cells": [
    {
      "cell_type": "markdown",
      "source": [],
      "metadata": {
        "id": "jBYH7k_RnE4y"
      }
    },
    {
      "cell_type": "code",
      "source": [
        "import numpy as np\n",
        "import pandas as pd\n",
        "from keras.preprocessing import sequence\n",
        "from keras.models import Sequential\n",
        "from keras.layers import Dense, Dropout, Embedding, LSTM, Bidirectional\n",
        "from keras.datasets import imdb"
      ],
      "metadata": {
        "id": "Di-P9lo_nGIW"
      },
      "execution_count": null,
      "outputs": []
    },
    {
      "cell_type": "code",
      "source": [
        "#Here we are going to use the IMDB data set for text classification using keras and bi-LSTM network \n",
        "\n",
        "n_unique_words = 1000  # cut text after this number\n",
        "maxlen = 200\n",
        "batch_size = 128\n"
      ],
      "metadata": {
        "id": "LAZJwPvSNPpI"
      },
      "execution_count": 2,
      "outputs": []
    },
    {
      "cell_type": "markdown",
      "source": [
        "y(target variable) is binary classification we will use bidirectional LSTM to do this."
      ],
      "metadata": {
        "id": "uxYSJcUFnOu4"
      }
    },
    {
      "cell_type": "code",
      "source": [
        "(X_train, y_train), (X_test, y_test) = imdb.load_data(num_words=n_unique_words)"
      ],
      "metadata": {
        "colab": {
          "base_uri": "https://localhost:8080/"
        },
        "id": "zat9LEJGN5we",
        "outputId": "aa68f3ca-b54c-40f5-c158-e170476623ba"
      },
      "execution_count": 3,
      "outputs": [
        {
          "output_type": "stream",
          "name": "stdout",
          "text": [
            "Downloading data from https://storage.googleapis.com/tensorflow/tf-keras-datasets/imdb.npz\n",
            "17465344/17464789 [==============================] - 0s 0us/step\n",
            "17473536/17464789 [==============================] - 0s 0us/step\n"
          ]
        }
      ]
    },
    {
      "cell_type": "code",
      "source": [
        "X_train = sequence.pad_sequences(X_train, maxlen = maxlen)\n",
        "X_test = sequence.pad_sequences(X_test, maxlen = maxlen)\n",
        "\n",
        "y_train = np.array(y_train)\n",
        "y_test = np.array(y_test)"
      ],
      "metadata": {
        "id": "MJkaJ3SeNPxK"
      },
      "execution_count": 4,
      "outputs": []
    },
    {
      "cell_type": "markdown",
      "source": [
        "### LSTM bidirectional Model"
      ],
      "metadata": {
        "id": "kOJwjCF4Q-oF"
      }
    },
    {
      "cell_type": "code",
      "source": [
        "model = Sequential()\n",
        "model.add(Embedding(n_unique_words, 128, input_length = maxlen))\n",
        "model.add(Bidirectional(LSTM(64)))\n",
        "model.add(Dropout(0.5))\n",
        "\n",
        "model.add(Dense(1, activation = 'sigmoid'))\n",
        "model.compile(loss = 'binary_crossentropy', optimizer = 'adam', metrics = ['accuracy'])\n"
      ],
      "metadata": {
        "id": "5eQ6cMwgQ3cT"
      },
      "execution_count": 5,
      "outputs": []
    },
    {
      "cell_type": "code",
      "source": [
        "## fit the data to model\n",
        "history = model.fit(X_train, y_train, batch_size = batch_size, \n",
        "                    epochs = 10,\n",
        "                    validation_data = [X_test, y_test])\n",
        "\n",
        "print(history.history['loss'])\n",
        "print(history.history['accuracy']) "
      ],
      "metadata": {
        "colab": {
          "base_uri": "https://localhost:8080/"
        },
        "id": "PORhZel0SVD3",
        "outputId": "8aa89a5a-3e9e-494e-adcf-5748c85455b8"
      },
      "execution_count": 7,
      "outputs": [
        {
          "output_type": "stream",
          "name": "stdout",
          "text": [
            "Epoch 1/10\n",
            "196/196 [==============================] - 19s 47ms/step - loss: 0.4629 - accuracy: 0.7738 - val_loss: 0.3673 - val_accuracy: 0.8399\n",
            "Epoch 2/10\n",
            "196/196 [==============================] - 7s 36ms/step - loss: 0.3429 - accuracy: 0.8557 - val_loss: 0.3276 - val_accuracy: 0.8583\n",
            "Epoch 3/10\n",
            "196/196 [==============================] - 11s 56ms/step - loss: 0.3277 - accuracy: 0.8617 - val_loss: 0.3369 - val_accuracy: 0.8540\n",
            "Epoch 4/10\n",
            "196/196 [==============================] - 11s 54ms/step - loss: 0.3098 - accuracy: 0.8703 - val_loss: 0.3297 - val_accuracy: 0.8614\n",
            "Epoch 5/10\n",
            "196/196 [==============================] - 12s 64ms/step - loss: 0.2974 - accuracy: 0.8755 - val_loss: 0.3305 - val_accuracy: 0.8589\n",
            "Epoch 6/10\n",
            "196/196 [==============================] - 8s 43ms/step - loss: 0.2934 - accuracy: 0.8773 - val_loss: 0.3488 - val_accuracy: 0.8582\n",
            "Epoch 7/10\n",
            "196/196 [==============================] - 8s 40ms/step - loss: 0.2833 - accuracy: 0.8795 - val_loss: 0.3340 - val_accuracy: 0.8523\n",
            "Epoch 8/10\n",
            "196/196 [==============================] - 8s 39ms/step - loss: 0.2723 - accuracy: 0.8857 - val_loss: 0.3291 - val_accuracy: 0.8628\n",
            "Epoch 9/10\n",
            "196/196 [==============================] - 10s 50ms/step - loss: 0.2562 - accuracy: 0.8937 - val_loss: 0.3413 - val_accuracy: 0.8653\n",
            "Epoch 10/10\n",
            "196/196 [==============================] - 8s 40ms/step - loss: 0.2434 - accuracy: 0.8999 - val_loss: 0.3547 - val_accuracy: 0.8599\n",
            "[0.46292856335639954, 0.3429064154624939, 0.32770413160324097, 0.3097941279411316, 0.2973533272743225, 0.29336902499198914, 0.28326430916786194, 0.2723062336444855, 0.25619959831237793, 0.24335896968841553]\n",
            "[0.7737600207328796, 0.8557199835777283, 0.8616799712181091, 0.8703200221061707, 0.8754799962043762, 0.8773199915885925, 0.8794800043106079, 0.8856800198554993, 0.8937199711799622, 0.8998799920082092]\n"
          ]
        }
      ]
    },
    {
      "cell_type": "code",
      "source": [
        "import matplotlib.pyplot as plt\n",
        "plt.plot(history.history['loss'])\n",
        "plt.plot(history.history['accuracy'])\n",
        "plt.title('model loss vs accuracy')\n",
        "plt.xlabel('epoch')\n",
        "plt.legend(['loss', 'accuracy'], loc='upper right')\n",
        "plt.show() "
      ],
      "metadata": {
        "colab": {
          "base_uri": "https://localhost:8080/",
          "height": 295
        },
        "id": "bznqzw0STCN8",
        "outputId": "7ec64863-be65-42a7-cabe-7bd244069740"
      },
      "execution_count": 9,
      "outputs": [
        {
          "output_type": "display_data",
          "data": {
            "text/plain": [
              "<Figure size 432x288 with 1 Axes>"
            ],
            "image/png": "[encoded data removed]"
          },
          "metadata": {
            "needs_background": "light"
          }
        }
      ]
    },
    {
      "cell_type": "markdown",
      "source": [
        "WE got the accuracy of 86.5% and loss as 35% "
      ],
      "metadata": {
        "id": "-6QEkT_FnorA"
      }
    }
  ]
}